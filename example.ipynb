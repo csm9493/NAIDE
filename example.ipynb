{
 "cells": [
  {
   "cell_type": "code",
   "execution_count": 8,
   "metadata": {},
   "outputs": [],
   "source": [
    "from core.layers import NAIDE_Conv2D_A\n",
    "\n",
    "import numpy as np\n",
    "\n",
    "from keras.models import Sequential\n",
    "from keras.layers import Dense, Dropout, Flatten, Activation\n",
    "from keras.optimizers import Adam"
   ]
  },
  {
   "cell_type": "code",
   "execution_count": 9,
   "metadata": {
    "collapsed": true
   },
   "outputs": [],
   "source": [
    "model = Sequential()\n",
    "model.add(NAIDE_Conv2D_A(1, (3, 3), kernel_initializer='he_uniform', padding='same', input_shape=(40, 40, 1)))\n",
    "model.add(Flatten())\n",
    "model.add(Dense(1))"
   ]
  },
  {
   "cell_type": "code",
   "execution_count": 10,
   "metadata": {
    "collapsed": true
   },
   "outputs": [],
   "source": [
    "model.compile(optimizer=Adam(), loss='mean_squared_error')"
   ]
  },
  {
   "cell_type": "code",
   "execution_count": 11,
   "metadata": {},
   "outputs": [
    {
     "name": "stdout",
     "output_type": "stream",
     "text": [
      "(10, 40, 40, 1)\n",
      "(10, 1)\n"
     ]
    }
   ],
   "source": [
    "X_data = np.random.rand(10,40,40,1)\n",
    "print (X_data.shape)\n",
    "y_data = np.random.rand(10,1)\n",
    "print (y_data.shape)"
   ]
  },
  {
   "cell_type": "code",
   "execution_count": 12,
   "metadata": {},
   "outputs": [
    {
     "name": "stdout",
     "output_type": "stream",
     "text": [
      "[[-0.1000675  -0.13104582 -0.8118456 ]\n",
      " [-0.04082263  0.242926   -0.16281325]\n",
      " [-0.34636998 -0.65852082 -0.72265732]]\n"
     ]
    }
   ],
   "source": [
    "print model.layers[0].get_weights()[0].reshape(3,3)"
   ]
  },
  {
   "cell_type": "code",
   "execution_count": 13,
   "metadata": {},
   "outputs": [
    {
     "name": "stdout",
     "output_type": "stream",
     "text": [
      "Epoch 1/10\n",
      "\n",
      "10/10 [==============================] - ETA: 0s - loss: 0.8093\n",
      "Epoch 2/10\n",
      "\n",
      "10/10 [==============================] - ETA: 0s - loss: 1.3319\n",
      "Epoch 3/10\n",
      "\n",
      "10/10 [==============================] - ETA: 0s - loss: 0.6208\n",
      "Epoch 4/10\n",
      "\n",
      "10/10 [==============================] - ETA: 0s - loss: 0.4020\n",
      "Epoch 5/10\n",
      "\n",
      "10/10 [==============================] - ETA: 0s - loss: 0.8524\n",
      "Epoch 6/10\n",
      "\n",
      "10/10 [==============================] - ETA: 0s - loss: 0.5412\n",
      "Epoch 7/10\n",
      "\n",
      "10/10 [==============================] - ETA: 0s - loss: 0.2595\n",
      "Epoch 8/10\n",
      "\n",
      "10/10 [==============================] - ETA: 0s - loss: 0.4845\n",
      "Epoch 9/10\n",
      "\n",
      "10/10 [==============================] - ETA: 0s - loss: 0.5586\n",
      "Epoch 10/10\n",
      "\n",
      "10/10 [==============================] - ETA: 0s - loss: 0.3096\n"
     ]
    },
    {
     "data": {
      "text/plain": [
       "<keras.callbacks.History at 0x7f7ca467dad0>"
      ]
     },
     "execution_count": 13,
     "metadata": {},
     "output_type": "execute_result"
    }
   ],
   "source": [
    "model.fit(X_data,y_data,epochs=10)"
   ]
  },
  {
   "cell_type": "code",
   "execution_count": 14,
   "metadata": {},
   "outputs": [
    {
     "name": "stdout",
     "output_type": "stream",
     "text": [
      "[[-0.09322343 -0.1227885  -0.80345136]\n",
      " [-0.03696529  0.242926   -0.15689078]\n",
      " [-0.34077653 -0.6499455  -0.71872193]]\n"
     ]
    }
   ],
   "source": [
    "print (model.layers[0].get_weights()[0].reshape(3,3))"
   ]
  },
  {
   "cell_type": "code",
   "execution_count": null,
   "metadata": {
    "collapsed": true
   },
   "outputs": [],
   "source": []
  }
 ],
 "metadata": {
  "kernelspec": {
   "display_name": "Python 2",
   "language": "python",
   "name": "python2"
  },
  "language_info": {
   "codemirror_mode": {
    "name": "ipython",
    "version": 2
   },
   "file_extension": ".py",
   "mimetype": "text/x-python",
   "name": "python",
   "nbconvert_exporter": "python",
   "pygments_lexer": "ipython2",
   "version": "2.7.6"
  }
 },
 "nbformat": 4,
 "nbformat_minor": 2
}
